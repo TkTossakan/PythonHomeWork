{
 "cells": [
  {
   "cell_type": "code",
   "execution_count": 1,
   "id": "c8ef1782-d243-4855-ac61-050a7e8727ff",
   "metadata": {
    "tags": []
   },
   "outputs": [
    {
     "name": "stdout",
     "output_type": "stream",
     "text": [
      "นาย กฤษณ สุขไชยญาติ\n"
     ]
    }
   ],
   "source": [
    "print(\"นาย กฤษณ สุขไชยญาติ\")"
   ]
  },
  {
   "cell_type": "code",
   "execution_count": 3,
   "id": "c6c19576-b3a5-4e6e-9846-7c74439f14f4",
   "metadata": {
    "tags": []
   },
   "outputs": [
    {
     "name": "stdout",
     "output_type": "stream",
     "text": [
      "รหัส 6612732102\n"
     ]
    }
   ],
   "source": [
    "print(\"รหัส 6612732102\")"
   ]
  },
  {
   "cell_type": "code",
   "execution_count": null,
   "id": "86e18ff5-ce87-4ac2-9a2b-dd936bc9f730",
   "metadata": {},
   "outputs": [],
   "source": []
  }
 ],
 "metadata": {
  "kernelspec": {
   "display_name": "Python 3 (ipykernel)",
   "language": "python",
   "name": "python3"
  },
  "language_info": {
   "codemirror_mode": {
    "name": "ipython",
    "version": 3
   },
   "file_extension": ".py",
   "mimetype": "text/x-python",
   "name": "python",
   "nbconvert_exporter": "python",
   "pygments_lexer": "ipython3",
   "version": "3.11.5"
  }
 },
 "nbformat": 4,
 "nbformat_minor": 5
}
